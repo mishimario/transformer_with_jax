{
 "cells": [
  {
   "cell_type": "code",
   "execution_count": 1,
   "outputs": [],
   "source": [
    "import re\n",
    "import pandas as pd\n",
    "import spacy\n",
    "import numpy as np"
   ],
   "metadata": {
    "collapsed": false,
    "pycharm": {
     "name": "#%%\n"
    }
   }
  },
  {
   "cell_type": "code",
   "execution_count": 2,
   "metadata": {
    "collapsed": true
   },
   "outputs": [],
   "source": [
    "data_path = \"../data/split/test\""
   ]
  },
  {
   "cell_type": "code",
   "execution_count": 3,
   "outputs": [
    {
     "name": "stdout",
     "output_type": "stream",
     "text": [
      "or the relative risk of drugs\tほぼ無関係です\n",
      "\n",
      "gail, are you drunk?\tゲイル 酔ってる?\n",
      "\n",
      "be careful.\t注意しろ\n",
      "\n",
      "last withdrawal was five days ago.\t最後の引き出しが 5日前にあった\n",
      "\n",
      "unless i kill myself and complete your story.\t僕が自殺し 物語を完成させる\n",
      "\n"
     ]
    }
   ],
   "source": [
    "with open(data_path,\"r\") as f:\n",
    "    train_data = f.readlines()\n",
    "for i in range(5):\n",
    "    print(train_data[i])"
   ],
   "metadata": {
    "collapsed": false,
    "pycharm": {
     "name": "#%%\n"
    }
   }
  },
  {
   "cell_type": "code",
   "execution_count": 4,
   "outputs": [
    {
     "data": {
      "text/plain": "                                              英語               日本語\n0                  or the relative risk of drugs           ほぼ無関係です\n1                           gail, are you drunk?         ゲイル 酔ってる?\n2                                    be careful.              注意しろ\n3             last withdrawal was five days ago.  最後の引き出しが 5日前にあった\n4  unless i kill myself and complete your story.    僕が自殺し 物語を完成させる",
      "text/html": "<div>\n<style scoped>\n    .dataframe tbody tr th:only-of-type {\n        vertical-align: middle;\n    }\n\n    .dataframe tbody tr th {\n        vertical-align: top;\n    }\n\n    .dataframe thead th {\n        text-align: right;\n    }\n</style>\n<table border=\"1\" class=\"dataframe\">\n  <thead>\n    <tr style=\"text-align: right;\">\n      <th></th>\n      <th>英語</th>\n      <th>日本語</th>\n    </tr>\n  </thead>\n  <tbody>\n    <tr>\n      <th>0</th>\n      <td>or the relative risk of drugs</td>\n      <td>ほぼ無関係です</td>\n    </tr>\n    <tr>\n      <th>1</th>\n      <td>gail, are you drunk?</td>\n      <td>ゲイル 酔ってる?</td>\n    </tr>\n    <tr>\n      <th>2</th>\n      <td>be careful.</td>\n      <td>注意しろ</td>\n    </tr>\n    <tr>\n      <th>3</th>\n      <td>last withdrawal was five days ago.</td>\n      <td>最後の引き出しが 5日前にあった</td>\n    </tr>\n    <tr>\n      <th>4</th>\n      <td>unless i kill myself and complete your story.</td>\n      <td>僕が自殺し 物語を完成させる</td>\n    </tr>\n  </tbody>\n</table>\n</div>"
     },
     "execution_count": 4,
     "metadata": {},
     "output_type": "execute_result"
    }
   ],
   "source": [
    "train_data = [re.sub('\\n', '', s).split('\\t') for s in train_data]\n",
    "train_df = pd.DataFrame(train_data, columns=['英語', '日本語'])\n",
    "train_df.head()"
   ],
   "metadata": {
    "collapsed": false,
    "pycharm": {
     "name": "#%%\n"
    }
   }
  },
  {
   "cell_type": "code",
   "execution_count": 5,
   "outputs": [],
   "source": [
    "JA = spacy.load(\"ja_core_news_md\")\n",
    "EN = spacy.load(\"en_core_web_md\")"
   ],
   "metadata": {
    "collapsed": false,
    "pycharm": {
     "name": "#%%\n"
    }
   }
  },
  {
   "cell_type": "code",
   "execution_count": 6,
   "outputs": [],
   "source": [
    "def tokenize_ja(sentence):\n",
    "    return [tok.text for tok in JA.tokenizer(sentence)]\n",
    "\n",
    "def tokenize_en(sentence):\n",
    "    return [tok.text for tok in EN.tokenizer(sentence)]"
   ],
   "metadata": {
    "collapsed": false,
    "pycharm": {
     "name": "#%%\n"
    }
   }
  },
  {
   "cell_type": "code",
   "execution_count": 7,
   "outputs": [],
   "source": [
    "def create_vocabulary(tokenized_corpus):\n",
    "    vocab = {}\n",
    "    vocab['<PAD>'] = 0\n",
    "    i = 1\n",
    "    for sentence in tokenized_corpus:\n",
    "        for word in sentence:\n",
    "            if word in vocab:\n",
    "                continue\n",
    "            vocab[word] = i\n",
    "            i += 1\n",
    "\n",
    "    return vocab"
   ],
   "metadata": {
    "collapsed": false,
    "pycharm": {
     "name": "#%%\n"
    }
   }
  },
  {
   "cell_type": "code",
   "execution_count": 8,
   "outputs": [
    {
     "name": "stdout",
     "output_type": "stream",
     "text": [
      "or the relative risk of drugs\n"
     ]
    }
   ],
   "source": [
    "print(train_data[0:2][0][0])\n",
    "#train_data = np.array(train_data)"
   ],
   "metadata": {
    "collapsed": false,
    "pycharm": {
     "name": "#%%\n"
    }
   }
  },
  {
   "cell_type": "code",
   "execution_count": 9,
   "outputs": [],
   "source": [
    "train_ja_data = [i[1] for i in train_data]\n",
    "train_en_data = [i[0] for i in train_data]"
   ],
   "metadata": {
    "collapsed": false,
    "pycharm": {
     "name": "#%%\n"
    }
   }
  },
  {
   "cell_type": "code",
   "execution_count": 10,
   "outputs": [
    {
     "name": "stdout",
     "output_type": "stream",
     "text": [
      "or the relative risk of drugs\n"
     ]
    }
   ],
   "source": [
    "print(train_en_data[0])"
   ],
   "metadata": {
    "collapsed": false,
    "pycharm": {
     "name": "#%%\n"
    }
   }
  },
  {
   "cell_type": "code",
   "execution_count": 11,
   "outputs": [
    {
     "name": "stdout",
     "output_type": "stream",
     "text": [
      "[['ほぼ', '無', '関係', 'です'], ['ゲイル', '酔っ', 'てる', '?'], ['注意', 'しろ']]\n"
     ]
    }
   ],
   "source": [
    "train_ja_tokenized = [tokenize_ja(s) for s in train_ja_data]\n",
    "print(train_ja_tokenized[0:3])"
   ],
   "metadata": {
    "collapsed": false,
    "pycharm": {
     "name": "#%%\n"
    }
   }
  },
  {
   "cell_type": "code",
   "execution_count": 11,
   "outputs": [],
   "source": [],
   "metadata": {
    "collapsed": false,
    "pycharm": {
     "name": "#%%\n"
    }
   }
  }
 ],
 "metadata": {
  "kernelspec": {
   "display_name": "Python 3",
   "language": "python",
   "name": "python3"
  },
  "language_info": {
   "codemirror_mode": {
    "name": "ipython",
    "version": 2
   },
   "file_extension": ".py",
   "mimetype": "text/x-python",
   "name": "python",
   "nbconvert_exporter": "python",
   "pygments_lexer": "ipython2",
   "version": "2.7.6"
  }
 },
 "nbformat": 4,
 "nbformat_minor": 0
}